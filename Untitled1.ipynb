{
 "cells": [
  {
   "cell_type": "code",
   "execution_count": 1,
   "id": "b3d1eb1d-be4b-4bc0-9b7d-8dcf769615b6",
   "metadata": {},
   "outputs": [],
   "source": [
    "import numpy as np\n",
    "import matplotlib.pyplot as plt\n",
    "from astropy.coordinates import SkyCoord\n",
    "from astropy import units as u\n",
    "#from photutils.background import Background2D, MedianBackground\n",
    "from astropy.convolution import Gaussian2DKernel\n",
    "import astropy.convolution.convolve as convolve\n",
    "from astropy.visualization import (MinMaxInterval, SqrtStretch,LogStretch,ZScaleInterval,HistEqStretch,LinearStretch,\n",
    "                                   PowerStretch,ImageNormalize,simple_norm)\n",
    "from astropy.io import fits\n",
    "from matplotlib.patches import Rectangle\n",
    "from math import log, log10, ceil, floor, exp, sqrt\n",
    "from scipy import integrate,interpolate\n",
    "import numpy.random as random"
   ]
  },
  {
   "cell_type": "code",
   "execution_count": 2,
   "id": "c33697ab-52b1-4552-bcf5-2276b195a466",
   "metadata": {},
   "outputs": [],
   "source": [
    "# constants\n",
    "c_km = 2.9979E5      # km/s\n",
    "c = 2.9979E10       # cm/s\n",
    "h = 6.626068E-27    # cm^2*g/s\n",
    "k = 1.3806503E-16   # cm^2*g/(s^2*K)\n",
    "Ang = 1E-8          # cm\n",
    "mu = 1E-4           # cm\n",
    "scale=0.8/3 #0.8 arcsecond divided by 3 pixels\n",
    "darkcurrent = 0.002 #e- / s\n",
    "readnoise = 5 # e-\n",
    "readnoise=readnoise**2\n",
    "itime=5\n",
    "nframes=1"
   ]
  },
  {
   "cell_type": "code",
   "execution_count": 3,
   "id": "62529a5e-0948-417d-8d47-f91399034318",
   "metadata": {},
   "outputs": [],
   "source": [
    "zp=43.6*u.ph*u.cm**-2*u.s**-1*u.Angstrom**-1"
   ]
  },
  {
   "cell_type": "code",
   "execution_count": 4,
   "id": "8b7207c6-c72c-4d89-aecc-ed878314b7b5",
   "metadata": {},
   "outputs": [],
   "source": [
    "zp=zp.to(u.ph*u.m**-2*u.s**-1*u.micron**-1)"
   ]
  },
  {
   "cell_type": "code",
   "execution_count": 5,
   "id": "4ad60068-50fa-4842-99fc-d27fb2d61f34",
   "metadata": {},
   "outputs": [
    {
     "name": "stdout",
     "output_type": "stream",
     "text": [
      "K band zeropoint = 4359999999.999999 ph / (micron s m2)\n"
     ]
    }
   ],
   "source": [
    "print('K band zeropoint =',zp)"
   ]
  },
  {
   "cell_type": "code",
   "execution_count": 6,
   "id": "47767737-a66e-4e4b-86cf-f65dea96a410",
   "metadata": {},
   "outputs": [],
   "source": [
    "input_scene=np.zeros([108,108]) # input scene array\n",
    "\n",
    "#x,y positions of objects in array and their corresponding magnitudes\n",
    "x_arr=random.randint(low=0,high=108,size=20)\n",
    "y_arr=random.randint(low=0,high=108,size=20)\n",
    "mag_arr=random.randint(low=8,high=9,size=20)"
   ]
  },
  {
   "cell_type": "code",
   "execution_count": 7,
   "id": "0a4bc1be-7898-4b19-9c5d-dcef5c283669",
   "metadata": {},
   "outputs": [],
   "source": [
    "for xi,yi,magi in zip(x_arr,y_arr,mag_arr):\n",
    "        mag=magi\n",
    "        phot_flux=zp*10**(-0.4*mag) #ph/s/um/m2\n",
    "        area=np.pi*(3.6**2-0.952**2)*u.m**2\n",
    "        bw=0.41*u.micron #micron\n",
    "        eff=0.6#efficieny\n",
    "        det_flux=phot_flux*area*bw*eff #area*bw*eff\n",
    "        #print(det_flux) #photons/sec\n",
    "        input_scene[yi,xi]=det_flux.value"
   ]
  },
  {
   "cell_type": "code",
   "execution_count": 8,
   "id": "e0d5b777-3030-4ab4-b13d-49ace95b83fe",
   "metadata": {},
   "outputs": [],
   "source": [
    "#Seeing kernel\n",
    "gaussian_2D = Gaussian2DKernel(x_stddev=1,y_stddev=1,x_size=11,y_size=11)"
   ]
  },
  {
   "cell_type": "code",
   "execution_count": 9,
   "id": "ab63879b-74ae-4041-94a8-f5b058f5d9d5",
   "metadata": {},
   "outputs": [
    {
     "data": {
      "text/plain": [
       "<matplotlib.image.AxesImage at 0x16e5d730d30>"
      ]
     },
     "execution_count": 9,
     "metadata": {},
     "output_type": "execute_result"
    },
    {
     "data": {
      "image/png": "[encoded data removed]",
      "text/plain": [
       "<Figure size 640x480 with 1 Axes>"
      ]
     },
     "metadata": {},
     "output_type": "display_data"
    }
   ],
   "source": [
    "plt.imshow(input_scene)"
   ]
  },
  {
   "cell_type": "code",
   "execution_count": 10,
   "id": "2946ede3-4228-4b84-8cab-55f5c381ec5c",
   "metadata": {},
   "outputs": [],
   "source": [
    "object_data=convolve(input_scene,gaussian_2D)"
   ]
  },
  {
   "cell_type": "code",
   "execution_count": 11,
   "id": "a4a8d63b-10df-400e-a064-f142eb8892b2",
   "metadata": {},
   "outputs": [
    {
     "data": {
      "image/png": "[encoded data removed]",
      "text/plain": [
       "<Figure size 640x480 with 1 Axes>"
      ]
     },
     "metadata": {},
     "output_type": "display_data"
    }
   ],
   "source": [
    "%matplotlib inline\n",
    "norm = simple_norm(object_data, 'log')\n",
    "plt.imshow(object_data,norm=norm)\n",
    "plt.show()"
   ]
  },
  {
   "cell_type": "code",
   "execution_count": 12,
   "id": "2f898066-df40-444c-b867-6452374befdd",
   "metadata": {},
   "outputs": [],
   "source": [
    "#Sky Background\n",
    "backmag=13.4048 # Kband /arcsec^2\n",
    "phot_flux=zp*10**(-0.4*backmag)*u.arcsecond**-2"
   ]
  },
  {
   "cell_type": "code",
   "execution_count": 13,
   "id": "2db54943-d1b1-4553-9584-91f05e1e0f0d",
   "metadata": {},
   "outputs": [
    {
     "data": {
      "text/latex": [
       "$18948.136 \\; \\mathrm{\\frac{ph}{\\mu m\\,s\\,arcsec^{2}\\,m^{2}}}$"
      ],
      "text/plain": [
       "<Quantity 18948.13582803 ph / (micron s arcsec2 m2)>"
      ]
     },
     "execution_count": 13,
     "metadata": {},
     "output_type": "execute_result"
    }
   ],
   "source": [
    "phot_flux"
   ]
  },
  {
   "cell_type": "code",
   "execution_count": 14,
   "id": "8e78328f-5c50-4ea0-8b43-943833e9e239",
   "metadata": {},
   "outputs": [
    {
     "data": {
      "text/latex": [
       "$12551.891 \\; \\mathrm{\\frac{ph}{s}}$"
      ],
      "text/plain": [
       "<Quantity 12551.89124745 ph / s>"
      ]
     },
     "execution_count": 14,
     "metadata": {},
     "output_type": "execute_result"
    }
   ],
   "source": [
    "sky_flux=phot_flux*area*bw*eff\n",
    "sky_flux_per_pixel=sky_flux*scale*u.arcsec*scale*u.arcsec\n",
    "sky_flux_per_pixel"
   ]
  },
  {
   "cell_type": "code",
   "execution_count": 15,
   "id": "9fe43e52-6530-499f-ba15-deb3949d2ab0",
   "metadata": {},
   "outputs": [],
   "source": [
    "sky_data=np.zeros([108,108])+sky_flux_per_pixel.value"
   ]
  },
  {
   "cell_type": "code",
   "execution_count": 17,
   "id": "4807f08d-5a8d-4e38-874b-12726a7b8655",
   "metadata": {},
   "outputs": [],
   "source": [
    "object_sky_data=object_data+sky_data"
   ]
  },
  {
   "cell_type": "code",
   "execution_count": 18,
   "id": "2be86492-33e9-439b-9fd1-2e59e05f0ca8",
   "metadata": {},
   "outputs": [
    {
     "data": {
      "image/png": "[encoded data removed]",
      "text/plain": [
       "<Figure size 640x480 with 1 Axes>"
      ]
     },
     "metadata": {},
     "output_type": "display_data"
    }
   ],
   "source": [
    "plt.figure()\n",
    "norm = simple_norm(object_sky_data, 'log')\n",
    "plt.imshow(object_sky_data,norm=norm)\n",
    "plt.show()"
   ]
  }
 ],
 "metadata": {
  "kernelspec": {
   "display_name": "Python 3 (ipykernel)",
   "language": "python",
   "name": "python3"
  },
  "language_info": {
   "codemirror_mode": {
    "name": "ipython",
    "version": 3
   },
   "file_extension": ".py",
   "mimetype": "text/x-python",
   "name": "python",
   "nbconvert_exporter": "python",
   "pygments_lexer": "ipython3",
   "version": "3.9.19"
  }
 },
 "nbformat": 4,
 "nbformat_minor": 5
}
